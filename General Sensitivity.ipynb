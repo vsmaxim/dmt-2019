{
 "cells": [
  {
   "cell_type": "markdown",
   "metadata": {
    "collapsed": true
   },
   "source": [
    "# Анализ чувствительности: общие идеи"
   ]
  },
  {
   "cell_type": "markdown",
   "metadata": {},
   "source": [
    "## Постановка задачи\n",
    "\n",
    "Фабрика производит три вида продукции: П1, П2 и П3. \n",
    "\n",
    "Известна цена на продукцию для распространителей и приблизительный спрос на каждый из видов продукции в неделю (см. Таблицу 1). \n",
    "\n",
    "Процессы производства продукции разных видов имеют отличия. На фабрике есть три цеха: Ц1, Ц2 и Ц3. Для производства продукции П1 необходимы только технологические операции, производимые цехом Ц1, для П2 – Ц1 и Ц3, для производства П3 – необходима полная технологическая цепочка, включающая обработку во всех трех цехах. \n",
    "\n",
    "В цехах Ц1 и Ц2 продукция разных видов обрабатывается одинаково, и известна общая производительность этих цехов в единицах обработанной продукции в неделю, то в цехе Ц3 предполагается ручная обработка (см. Таблицу 2). \n",
    "\n",
    "Из всех видов материалов, используемых при производстве продукции, ограниченным является только один, поставки его в неделю и потребности для каждого из видов продукции приведены в таблице 3. \n",
    "\n",
    "Необходимо составить производственный план на неделю, максимизирующий выручку от реализации продукции.\n",
    "\n",
    "Таблица 1 - Характеристики продукции\n",
    "\n",
    "| Вид продукции | Цена, руб. | Спрос, шт. в неделю (мин./баз./макс.) |\n",
    "|---------------|------------|---------------------------------------|\n",
    "| П1            | 1200       | 20/25/35                              |\n",
    "| П2            | 2500       | 10/20/30                              |\n",
    "| П3            | 1400       | 20/25/30                              |\n",
    "\n",
    "Таблица 2 - Производительность цехов\n",
    "\n",
    "| Ц1, шт. в неделю | Ц2, шт. в неделю | Ц3, часов (П2/П3/Общий фонд) |\n",
    "|------------------|------------------|------------------------------|\n",
    "| 40               | 20               | 8/2/80                       |\n",
    "\n",
    "Таблица 3 - Материалы\n",
    "\n",
    "| Поставки в неделю, кг | На ед. продукта  П1, кг | На ед. продукта  П2, кг | На ед. продукта  П3, кг |\n",
    "|-----------------------|-------------------------|-------------------------|-------------------------|\n",
    "| 50                    | 0,8                     | 0,6                     | 0,7                     |\n",
    "\n",
    "(для генерации таблиц в Markdown можно использовать, например: https://www.tablesgenerator.com/markdown_tables) \n",
    "\n",
    "## Формальная постановка задачи\n",
    "\n",
    "Пусть $x_i$ - количество единиц продукции i-того вида, которое необходимо произвести за неделю ($i \\in {1, 2, 3}$). \n",
    "\n",
    "Целевая функция и ограничения:\n",
    "$$\n",
    "1200x_1 + 2500x_2 + 1400x_3 \\rightarrow max \\\\\n",
    "x_1 + x_2 + x_3 \\leq 40 \\\\\n",
    "x_3 \\leq 20 \\\\\n",
    "8x_2 + 2x_3 \\leq 80 \\\\\n",
    "x_1 \\leq 25 \\\\\n",
    "x_2 \\leq 20 \\\\\n",
    "x_3 \\leq 25 \\\\\n",
    "0.8x_1 + 0.6x_2 + 0.7x_3 \\leq 50 \\\\\n",
    "x_{1,2,3} \\geq 0\n",
    "$$\n",
    "\n",
    "Табличное представление:\n",
    "\n",
    "|  * | x1   | x2   | x3   | Неравенство | b   |\n",
    "|----|------|------|------|-------------|-----|\n",
    "| с  | 1200 | 2500 | 1400 | -           | max |\n",
    "| y1 | 1    | 1    | 1    | <=          | 40  |\n",
    "| y2 | 0    | 0    | 1    | <=          | 20  |\n",
    "| y3 | 0    | 8    | 2    | <=          | 80  |\n",
    "| y4 | 1    | 0    | 0    | <=          | 25  |\n",
    "| y5 | 0    | 1    | 0    | <=          | 20  |\n",
    "| y6 | 0    | 0    | 1    | <=          | 25  |\n",
    "| y7 | 0,8  | 0,6  | 0,7  | <=          | 50  |\n",
    "\n"
   ]
  },
  {
   "cell_type": "code",
   "execution_count": 2,
   "metadata": {},
   "outputs": [
    {
     "name": "stdout",
     "output_type": "stream",
     "text": [
      "Status: True\n",
      "Objective: 5166.6666666666715\n",
      "x = \n",
      " [ 2.50e+01]\n",
      "[ 8.33e+00]\n",
      "[ 6.67e+00]\n",
      "\n"
     ]
    }
   ],
   "source": [
    "from cvxopt import matrix, solvers\n",
    "\n",
    "def solve(demand1, demand2, demand3):\n",
    "    c = matrix([-1200., -2500., -1400.])       \n",
    "    G = matrix([[  1,   1,   1],\n",
    "                [  0,   0,   1],\n",
    "                [  0,   8,   2],\n",
    "                [  1,   0,   0],\n",
    "                [  0,   1,   0],\n",
    "                [  0,   0,   1],\n",
    "                [0.8, 0.6, 0.7],\n",
    "                [ -1,   0,   0],\n",
    "                [  0,  -1,   0],\n",
    "                [  0,   0,  -1]])\n",
    "    h = matrix([40, 20, 80, float(demand1), float(demand2), float(demand3), 50, 0, 0, 0], tc='d')\n",
    "    solution = solvers.lp(c, G.T, h, solver='glpk')\n",
    "    return (solution['status'] == 'optimal', -solution['primal objective']-55000, solution['x'], solution)\n",
    "\n",
    "# Решение задачи со средними значениями параметров\n",
    "solution = solve(25, 20, 25)\n",
    "\n",
    "print('Status:', solution[0])\n",
    "print('Objective:', solution[1])\n",
    "print('x = \\n', solution[2])"
   ]
  },
  {
   "cell_type": "markdown",
   "metadata": {},
   "source": [
    "# Анализ чувствительности для одного параметра\n"
   ]
  },
  {
   "cell_type": "code",
   "execution_count": 3,
   "metadata": {},
   "outputs": [],
   "source": [
    "import pandas as pd\n",
    "import seaborn as sns\n",
    "import matplotlib.pyplot as plt    # pyplot используется для настройки внешнего вида графиков\n",
    "\n",
    "# Чтобы графики сразу отображались в блокноте\n",
    "%matplotlib inline"
   ]
  },
  {
   "cell_type": "code",
   "execution_count": 4,
   "metadata": {},
   "outputs": [
    {
     "data": {
      "text/plain": [
       "<matplotlib.axes._subplots.AxesSubplot at 0x214b17bad68>"
      ]
     },
     "execution_count": 4,
     "metadata": {},
     "output_type": "execute_result"
    },
    {
     "data": {
      "image/png": "[encoded data removed]",
      "text/plain": [
       "<Figure size 432x288 with 1 Axes>"
      ]
     },
     "metadata": {
      "needs_background": "light"
     },
     "output_type": "display_data"
    }
   ],
   "source": [
    "# Проанализируем влияние спроса на продукт П1 на недельную чистую прибыль\n",
    "\n",
    "x = list(range(20, 35))\n",
    "fig_df = pd.DataFrame({'Demand': x,\n",
    "                       'Profit': list(map(lambda x: solve(x, 20, 25)[1], x))})\n",
    "sns.lineplot(data=fig_df, x='Demand', y='Profit')\n"
   ]
  },
  {
   "cell_type": "markdown",
   "metadata": {},
   "source": [
    "## Диаграмма торнадо\n",
    "\n",
    "Построим своеобразный \"заменитель\" диаграммы торнадо с помощью boxplot. Выглядит это не очень красиво, но основные функции выполняет.\n"
   ]
  },
  {
   "cell_type": "code",
   "execution_count": 5,
   "metadata": {},
   "outputs": [
    {
     "name": "stdout",
     "output_type": "stream",
     "text": [
      "  Parameter       Profit\n",
      "0   demand1  4333.333333\n",
      "1   demand2  5166.666667\n",
      "2   demand3  5166.666667\n",
      "3   demand1  6000.000000\n",
      "4   demand2  5166.666667\n",
      "5   demand3  5166.666667\n"
     ]
    },
    {
     "data": {
      "text/plain": [
       "<matplotlib.axes._subplots.AxesSubplot at 0x214b18dfd68>"
      ]
     },
     "execution_count": 5,
     "metadata": {},
     "output_type": "execute_result"
    },
    {
     "data": {
      "image/png": "[encoded data removed]",
      "text/plain": [
       "<Figure size 432x288 with 1 Axes>"
      ]
     },
     "metadata": {
      "needs_background": "light"
     },
     "output_type": "display_data"
    }
   ],
   "source": [
    "# Диапазоны изменения исследуемых параметров: минимальное значение, базовое, максимальное\n",
    "ranges = {\n",
    "   'demand1': (20, 25, 35),\n",
    "   'demand2': (10, 20, 30), \n",
    "   'demand3': (20, 25, 30),\n",
    "}\n",
    "\n",
    "variables = ['demand1', 'demand2', 'demand3']\n",
    "# Таблица с базовыми значениями всех исследуемых параметров\n",
    "base_args = {k : ranges[k][1] for k in variables}\n",
    "min_val = []\n",
    "max_val = []\n",
    "for variable in variables:\n",
    "    args = base_args.copy()\n",
    "    # Изменим значение параметра `variable` на минимальное\n",
    "    args[variable] = ranges[variable][0]\n",
    "    min_val.append(solve(**args)[1])\n",
    "    args = base_args.copy()\n",
    "    # Изменим значение параметра `variable` на максимальное\n",
    "    args[variable] = ranges[variable][2]\n",
    "    max_val.append(solve(**args)[1])\n",
    "\n",
    "plot_df = pd.DataFrame({'Parameter': variables + variables, \n",
    "                        'Profit': min_val + max_val})\n",
    "\n",
    "print(plot_df)\n",
    "sns.boxplot(data=plot_df, x='Profit', y='Parameter')                        \n",
    "                        "
   ]
  },
  {
   "cell_type": "markdown",
   "metadata": {},
   "source": [
    "# Анализ чувствительности для двух параметров"
   ]
  },
  {
   "cell_type": "code",
   "execution_count": 34,
   "metadata": {},
   "outputs": [
    {
     "data": {
      "text/plain": [
       "Text(0, 0.5, 'Profit')"
      ]
     },
     "execution_count": 34,
     "metadata": {},
     "output_type": "execute_result"
    },
    {
     "data": {
      "image/png": "[encoded data removed]",
      "text/plain": [
       "<Figure size 432x288 with 2 Axes>"
      ]
     },
     "metadata": {
      "needs_background": "light"
     },
     "output_type": "display_data"
    }
   ],
   "source": [
    "import numpy as np\n",
    "\n",
    "d1vals = np.arange(ranges['demand1'][0], ranges['demand1'][2], 1)\n",
    "d2vals = np.arange(ranges['demand2'][0], ranges['demand2'][2], 1)\n",
    "xx, yy = np.meshgrid(d1vals, d2vals)\n",
    "\n",
    "cs = plt.contourf(d1vals, \n",
    "                  d2vals, \n",
    "                  np.vectorize(lambda x, y, z: solve(x,y,z)[1])(xx,yy,ranges['demand3'][1])\n",
    "                 # , levels=[5000, 50000]\n",
    "                 )\n",
    "plt.xlabel('Product P1 demand')\n",
    "plt.ylabel('Product P2 demand')\n",
    "\n",
    "# Make a colorbar for the ContourSet returned by the contourf call.\n",
    "cbar = plt.colorbar(cs)\n",
    "cbar.ax.set_ylabel('Profit')\n"
   ]
  }
 ],
 "metadata": {
  "kernelspec": {
   "display_name": "Python 3",
   "language": "python",
   "name": "python3"
  },
  "language_info": {
   "codemirror_mode": {
    "name": "ipython",
    "version": 3
   },
   "file_extension": ".py",
   "mimetype": "text/x-python",
   "name": "python",
   "nbconvert_exporter": "python",
   "pygments_lexer": "ipython3",
   "version": "3.7.1"
  }
 },
 "nbformat": 4,
 "nbformat_minor": 1
}
