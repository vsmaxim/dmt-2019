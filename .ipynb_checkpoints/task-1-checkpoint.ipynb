{
 "cells": [
  {
   "cell_type": "markdown",
   "metadata": {},
   "source": [
    "# Вариант 4. Васильев Максим, 6373.\n",
    "\n",
    "## Задача 1.\n",
    "\n",
    "### Текст задачи \n",
    "\n",
    "В цехах $N1$ и $N2$ предприятия производится продукт Y, который в дальнейшем используется в качестве исходного материала для производства изделий в цехе $N3$. Суммарная производительность цехов N1 и N2 зависит от вложения дополнительных средств X. При работе цехов N1 и N2 в течение одного месяца эта зависимость может быть приближённо представлена в виде функций:\n",
    "\n",
    "- $N1: y = 5 + (x + 40)^{1/3}$\n",
    "- $N2: y = 7 + (x + 30)^{1/3}$\n",
    "\n",
    "Функции остатка средств в течении месяца:\n",
    "\n",
    "- $N1: 0.8x$\n",
    "- $N2: 0.62x$\n",
    "\n",
    "Средства выделяемые на оба цеха в течении квартала (3 месяца), составляют 179 единиц; перераспределение производится помесячно. \n",
    "\n",
    "Требуется распределить средства на планируемый квартал с целью получения максимального количества продукта Y.\n",
    "\n",
    "### Формализация задачи\n",
    "\n",
    "Так-как количество управлений невелико, для решения задачи был выбран метод Динамического программирования.Для решения задачи выбранным методом, нужно выбрать способ описания процесса.\n",
    "\n",
    "#### Способ описания процесса\n",
    "\n",
    "1. Этапы   - месяца финансирования, $i = 0..2$\n",
    "2. Выигрыш - суммарная производительность двух цехов, $y = 12 + (x_1 + 40)^{1/3} + (x_2 + 30)^{1/3}$, где $x_1$ - вложерние в первый цех, $x_2$ - вложение во второй цех\n",
    "3. Управление - количество средств выделенное на первый цех, т.к. на второй цех будет выделена автоматически оставшаяся часть.\n",
    "4. Состояние - остаток средств в течении месяца, в первом месяце это $179$\n",
    "\n",
    "#### Описание в терминах уравнения Беллмана\n",
    "\n",
    "$S_i$ - состояние на $i$-м этапе  \n",
    "$u_i$ - управление на $i$-м этапе  \n",
    "$W_i$ - условный оптимальный выигрыш на всех шагах от i-го и до последнего  \n",
    "$w_i(S_i, u_i)$ - выигрыш на $i$-м этапе  \n",
    "$\\varphi_i(S_i, u_i)$ - изменение состояния системы на i-м шаге  \n",
    "\n",
    "Запишем выигрыш и изменение состояния на i-м шаге:  \n",
    "$w_i(S_i, u_i) = 12 + (u_i + 40)^{1/3} + (S_i - u_i + 30)^{1/3}$  \n",
    "$\\varphi_i(S_i, u_i) = 0.8 u_i + 0.66(S_i - u_i)$  \n",
    "\n",
    "Тогда основное функциональное уравнение будет иметь следующий вид:\n",
    "\n",
    "$W_i(S_i) = max(12 + (u_i + 40)^{1/3} + (S_i - u_i + 30)^{1/3} + W_{i+1}(0.66S_i + 0.14u_i))$"
   ]
  },
  {
   "cell_type": "code",
   "execution_count": 34,
   "metadata": {},
   "outputs": [],
   "source": [
    "# Utility decorators \n",
    "\n",
    "def benchmark(func):\n",
    "    # TODO: Only works right for non-recursive functions\n",
    "    def decorated_function(*args, **kwargs):\n",
    "        start = default_timer()\n",
    "        ret = func(*args, *kwargs)\n",
    "        end = default_timer()\n",
    "        print(f\"Execution time = {end - start}\")\n",
    "        return ret\n",
    "    return decorated_function\n",
    "\n",
    "def cached_function(func):\n",
    "    cache = {}\n",
    "    def decorated_function(*args, **kwargs):\n",
    "        key = tuple(args)\n",
    "        if key not in cache:\n",
    "            cache[key] = func(*args, **kwargs)\n",
    "        return cache[key]\n",
    "    return decorated_function\n",
    "\n"
   ]
  },
  {
   "cell_type": "code",
   "execution_count": 37,
   "metadata": {},
   "outputs": [
    {
     "name": "stdout",
     "output_type": "stream",
     "text": [
      "(64.02499196970392, 107)\n"
     ]
    }
   ],
   "source": [
    "# Dynamic programming model\n",
    "from typing import Callable, Union, Tuple, List\n",
    "\n",
    "\n",
    "class DynamicSolver:\n",
    "    def __init__(self,\n",
    "                 state_change: Callable[[float, float], float],\n",
    "                 local_profit_change: Callable[[float, float], float],\n",
    "                 max_stages: int):\n",
    "        self.state_change = cached_function(state_change)\n",
    "        self.local_profit_change = cached_function(local_profit_change)\n",
    "        self.max_stages = max_stages\n",
    "    \n",
    "    @cached_function\n",
    "    def global_profit(self, stage: int, state: Union[int, float]) -> Tuple[float, int]:\n",
    "        if stage >= self.max_stages:\n",
    "            return (0, None)\n",
    "        \n",
    "        # TODO: Rewrite code below using itertools and change function constraints\n",
    "        state = int(state)\n",
    "        profit = [\n",
    "            (\n",
    "                self.local_profit_change(state, management) + self.global_profit(stage + 1, self.state_change(state, management))[0],\n",
    "                management\n",
    "            ) for management in range(state + 1)\n",
    "        ]\n",
    "        return max(profit, key=lambda x: x[0])\n",
    "    \n",
    "\n",
    "local_win = lambda s, u: 12 + (u + 40) ** (1/3) + ((s - u) + 30) ** (1/3)\n",
    "local_state_change = lambda s, u: 0.8 * u + 0.66 * (s - u)\n",
    "\n",
    "cost_optimizer = DynamicSolver(local_state_change, local_win, 3)\n",
    "print(cost_optimizer.global_profit(0, 179))\n"
   ]
  },
  {
   "cell_type": "code",
   "execution_count": null,
   "metadata": {},
   "outputs": [],
   "source": []
  }
 ],
 "metadata": {
  "kernelspec": {
   "display_name": "Python 3",
   "language": "python",
   "name": "python3"
  },
  "language_info": {
   "codemirror_mode": {
    "name": "ipython",
    "version": 3
   },
   "file_extension": ".py",
   "mimetype": "text/x-python",
   "name": "python",
   "nbconvert_exporter": "python",
   "pygments_lexer": "ipython3",
   "version": "3.7.2"
  }
 },
 "nbformat": 4,
 "nbformat_minor": 2
}
