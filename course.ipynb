{
 "cells": [
  {
   "cell_type": "markdown",
   "metadata": {
    "pycharm": {}
   },
   "source": [
    "# Вариант 4. Васильев Максим, 6373.\n",
    "\n",
    "## Задача 1.\n",
    "\n",
    "### Текст задачи \n",
    "\n",
    "В цехах $N1$ и $N2$ предприятия производится продукт Y, который в дальнейшем используется в качестве исходного материала для производства изделий в цехе $N3$. Суммарная производительность цехов N1 и N2 зависит от вложения дополнительных средств X. При работе цехов N1 и N2 в течение одного месяца эта зависимость может быть приближённо представлена в виде функций:\n",
    "\n",
    "- $N1: y = 5 + (x + 40)^{1/3}$\n",
    "- $N2: y = 7 + (x + 30)^{1/3}$\n",
    "\n",
    "Функции остатка средств в течении месяца:\n",
    "\n",
    "- $N1: 0.8x$\n",
    "- $N2: 0.62x$\n",
    "\n",
    "Средства выделяемые на оба цеха в течении квартала (3 месяца), составляют 179 единиц; перераспределение производится помесячно. \n",
    "\n",
    "Требуется распределить средства на планируемый квартал с целью получения максимального количества продукта Y.\n",
    "\n",
    "### Формализация задачи\n",
    "\n",
    "Так-как количество управлений невелико, для решения задачи был выбран метод Динамического программирования.Для решения задачи выбранным методом, нужно выбрать способ описания процесса.\n",
    "\n",
    "#### Способ описания процесса\n",
    "\n",
    "1. Этапы   - месяца финансирования, $i = 0..2$\n",
    "2. Выигрыш - суммарная производительность двух цехов, $y = 12 + (x_1 + 40)^{1/3} + (x_2 + 30)^{1/3}$, где $x_1$ - вложерние в первый цех, $x_2$ - вложение во второй цех\n",
    "3. Управление - количество средств выделенное на первый цех, т.к. на второй цех будет выделена автоматически оставшаяся часть.\n",
    "4. Состояние - остаток средств в течении месяца, в первом месяце это $179$\n",
    "\n",
    "#### Описание в терминах уравнения Беллмана\n",
    "\n",
    "$S_i$ - состояние на $i$-м этапе  \n",
    "$u_i$ - управление на $i$-м этапе  \n",
    "$W_i$ - условный оптимальный выигрыш на всех шагах от i-го и до последнего  \n",
    "$w_i(S_i, u_i)$ - выигрыш на $i$-м этапе  \n",
    "$\\varphi_i(S_i, u_i)$ - изменение состояния системы на i-м шаге  \n",
    "\n",
    "Запишем выигрыш и изменение состояния на i-м шаге:  \n",
    "$w_i(S_i, u_i) = 12 + (u_i + 40)^{1/3} + (S_i - u_i + 30)^{1/3}$  \n",
    "$\\varphi_i(S_i, u_i) = 0.8 u_i + 0.66(S_i - u_i)$  \n",
    "\n",
    "Тогда основное функциональное уравнение будет иметь следующий вид:\n",
    "\n",
    "$W_i(S_i) = max(12 + (u_i + 40)^{1/3} + (S_i - u_i + 30)^{1/3} + W_{i+1}(0.66S_i + 0.14u_i))$\n"
   ]
  },
  {
   "cell_type": "code",
   "execution_count": 24,
   "metadata": {
    "pycharm": {
     "is_executing": true
    }
   },
   "outputs": [
    {
     "name": "stdout",
     "output_type": "stream",
     "text": [
      "Maximum y product is 64.02966637551752\n",
      "Plan for this count of product is: [111.0, 73.8, 44.300000000000004]\n"
     ]
    }
   ],
   "source": [
    "\n",
    "# Dynamic programming solution\n",
    "\n",
    "from dynamic_solver import solve, set_precision, construct_plan\n",
    "\n",
    "set_precision(0.1)\n",
    "max_y_product = solve(179)\n",
    "\n",
    "print(f'Maximum y product is {max_y_product}')\n",
    "print(f'Plan for this count of product is: {construct_plan(179)}')\n"
   ]
  },
  {
   "cell_type": "markdown",
   "metadata": {
    "pycharm": {}
   },
   "source": [
    "## Задача 2.\n",
    "\n",
    "### Формализация задачи\n",
    "\n",
    "$f(x) = x_{21} + x_{31} + x_{12} + x_{22} + x_{13} + x_{33} -> max$ \n",
    "\n",
    "$x_{ij}, i=1..3, j=1..3$ - количество продукции i произведённое цехом j\n",
    "\n",
    "*Ограничения по количеству продукции:*  \n",
    "y1: $0.005x_{21} + 0.004x_{31} +  0.003x_{12} + 0.009x_{22} + 0.003x_{13} + 0.005x_{33} <= Y$, где Y - количество продукции полученное в прошлом пункте.  \n",
    "\n",
    "*Ограничения по времени:*  \n",
    "\n",
    "y2: $5 x_{21} + 8 x_{31} <= 860$  \n",
    "\n",
    "y3: $20 x_{12} + 8 x_{22} <= 1500$  \n",
    "\n",
    "y4: $13 x_{13} + 9 x_{33} <= 870$  \n",
    "\n",
    "*Ограничения на равенство производимой продукции:*\n",
    "\n",
    "$0.003 x_{12} + 0.003x_{13} - 0.005x_{21} - 0.009x_{22} = 0$  \n",
    "$0.003 x_{12} + 0.003x_{13} - 0.004x_{31} - 0.005x_{33} = 0$  \n",
    "\n",
    "\n",
    "*Ограничения на отрицательность переменных:*\n",
    "\n",
    "$x_{21} >= 0$\n",
    "$x_{31} >= 0$\n",
    "$x_{12} >= 0$\n",
    "$x_{22} >= 0$\n",
    "$x_{13} >= 0$\n",
    "$x_{33} >= 0$"
   ]
  },
  {
   "cell_type": "code",
   "execution_count": 25,
   "metadata": {
    "pycharm": {
     "is_executing": false
    }
   },
   "outputs": [
    {
     "name": "stdout",
     "output_type": "stream",
     "text": [
      "Status: optimal\n",
      "Objective: 309.8868778280543\n",
      "x = \n",
      "[ 6.73e+00]\n",
      "[ 1.03e+02]\n",
      "[ 3.64e+01]\n",
      "[ 9.66e+01]\n",
      "[ 6.69e+01]\n",
      "[ 0.00e+00]\n",
      "\n",
      "Shadow price=\n",
      "[-0.00e+00]\n",
      "[ 1.18e-01]\n",
      "[ 7.35e-02]\n",
      "[ 1.13e-01]\n",
      "\n",
      "Reduced cost=\n",
      "[-0.00e+00]\n",
      "[-0.00e+00]\n",
      "[-0.00e+00]\n",
      "[-0.00e+00]\n",
      "[-0.00e+00]\n",
      "[ 7.69e-02]\n",
      "\n"
     ]
    }
   ],
   "source": [
    "from cvxopt import matrix, solvers\n",
    "\n",
    "c = matrix([-1 for _ in range(6)], tc='d')\n",
    "G = matrix([[0.005, 0.004, 0.003, 0.009, 0.003, 0.005],\n",
    "            [5, 8, 0, 0, 0, 0],\n",
    "            [0, 0, 20, 8, 0, 0],\n",
    "            [0, 0, 0, 0, 13, 9],\n",
    "            [-1, 0, 0, 0, 0, 0],\n",
    "            [0, -1, 0, 0, 0, 0],\n",
    "            [0, 0, -1, 0, 0, 0],\n",
    "            [0, 0, 0, -1, 0, 0],\n",
    "            [0, 0, 0, 0, -1, 0],\n",
    "            [0, 0, 0, 0, 0, -1]], tc='d')\n",
    "\n",
    "h = matrix([max_y_product, 860, 1500, 870, 0, 0, 0, 0, 0, 0], tc='d')\n",
    "A = matrix([[-1, 0, 1, -1, 1, 0],\n",
    "            [0, -1, 1, 0, 1, -1]], tc='d')\n",
    "b = matrix([0, 0], tc='d')\n",
    "solution = solvers.lp(c, G.T, h, A.T, b, solver='glpk')\n",
    "\n",
    "print(f'Status: {solution[\"status\"]}')\n",
    "print(f'Objective: {-solution[\"primal objective\"]}')\n",
    "print(f'x = \\n{solution[\"x\"]}')\n",
    "\n",
    "max_product = -solution['primal objective']\n",
    "shadow_price, reduced_cost = solution['z'][:-len(c)], solution['z'][-len(c):]\n",
    "print(f'Shadow price=\\n{shadow_price}\\nReduced cost=\\n{reduced_cost}')\n"
   ]
  },
  {
   "cell_type": "markdown",
   "metadata": {
    "pycharm": {}
   },
   "source": [
    "### Выводы по решению:\n",
    "\n",
    "1. Ресурс $Y$, производимый цехами $N1$ и $N2$ не является дефицитным.\n",
    "2. Полностью загружены все группы оборудования, т.к. временной фонд в ограничениях $y2$, $y3$ и $y4$ является дефицитным ресурсом."
   ]
  },
  {
   "cell_type": "code",
   "execution_count": 26,
   "metadata": {
    "pycharm": {
     "is_executing": false
    }
   },
   "outputs": [
    {
     "name": "stdout",
     "output_type": "stream",
     "text": [
      "Sensitivity analysis for y2 constraint\n",
      "y2 availability interval is [810.0, 1846.0]\n",
      "\n",
      "Sensitivity analysis for y3 constraint\n",
      "y3 availability interval is [15.0, 1672.0]\n",
      "\n",
      "Sensitivity analysis for y4 constraint\n",
      "y4 availability interval is [0.0, 982.0]\n",
      "\n"
     ]
    }
   ],
   "source": [
    "from typing import Tuple\n",
    "\n",
    "\n",
    "def availability_interval(c, G, h, A, b, constraint_index: int) -> Tuple[int, int]:\n",
    "    \"\"\"\n",
    "    Returns solution availability interval for constraint with defined index\n",
    "    \n",
    "    :param с: default cvxopt.solvers.lp argument\n",
    "    :param G: default cvxopt.solvers.lp argument\n",
    "    :param h: default cvxopt.solvers.lp argument\n",
    "    :param A: default cvxopt.solvers.lp argument\n",
    "    :param b: default cvxopt.solvers.lp argument\n",
    "    :param constraint_index: index of constraint\n",
    "    :return: availability interval for constraint\n",
    "    \"\"\"\n",
    "    dh = matrix([int(i == constraint_index) for i in range(len(h))], tc='d')\n",
    "    default_solution = solvers.lp(c, G.T, h, A.T, b, solver='glpk')\n",
    "    \n",
    "    price = default_solution['z'][constraint_index]\n",
    "    prev_z = -default_solution['primal objective']\n",
    "    \n",
    "    step = 100\n",
    "    a = 1\n",
    "    \n",
    "    while True:\n",
    "        solution = solvers.lp(c, G.T, h + dh * a, A.T, b, solver='glpk')\n",
    "        \n",
    "        if solution['status'] != 'optimal':\n",
    "            right_border = h[constraint_index] + a - 1\n",
    "            break\n",
    "        \n",
    "        new_z = -solution['primal objective']\n",
    "        delta_z = new_z - prev_z \n",
    "        prev_z = new_z\n",
    "                \n",
    "        if abs(delta_z - price) > 1e-6:\n",
    "            right_border = h[constraint_index] + a\n",
    "            break\n",
    "        \n",
    "        a += 1\n",
    "    \n",
    "    a = 1\n",
    "    prev_z = -default_solution['primal objective']\n",
    "    \n",
    "    while True:\n",
    "        solution = solvers.lp(c, G.T, h - dh * a, A.T, b, solver='glpk')\n",
    "        \n",
    "        if solution['status'] != 'optimal':\n",
    "            left_border = h[constraint_index] - a + 1\n",
    "            break\n",
    "        \n",
    "        new_z = -solution['primal objective']\n",
    "        delta_z = prev_z - new_z\n",
    "        prev_z = new_z\n",
    "        \n",
    "        if abs(delta_z - price) > 1e-6:\n",
    "            left_border = h[constraint_index] - a\n",
    "            break\n",
    "        \n",
    "        a += 1\n",
    "    \n",
    "    return left_border, right_border\n",
    "\n",
    "borders = {}\n",
    "\n",
    "# Calculate availability interval for all constraints with non-zero shadow price\n",
    "for constraint_index, price in enumerate(shadow_price):\n",
    "    if price == 0:\n",
    "        continue\n",
    "    print(f'Sensitivity analysis for y{constraint_index + 1} constraint')\n",
    "    left_border, right_border = availability_interval(c, G, h, A, b, constraint_index)\n",
    "    borders[constraint_index] = (left_border, right_border)\n",
    "    print(f'y{constraint_index + 1} availability interval is [{left_border}, {right_border}]')\n",
    "    print()\n"
   ]
  },
  {
   "cell_type": "code",
   "execution_count": 27,
   "metadata": {
    "pycharm": {
     "is_executing": false
    }
   },
   "outputs": [
    {
     "data": {
      "text/plain": [
       "<matplotlib.axes._subplots.AxesSubplot at 0x7f2f0f2688d0>"
      ]
     },
     "execution_count": 27,
     "metadata": {},
     "output_type": "execute_result"
    },
    {
     "data": {
      "image/png": "[encoded data removed]",
      "text/plain": [
       "<Figure size 432x288 with 1 Axes>"
      ]
     },
     "metadata": {
      "needs_background": "light"
     },
     "output_type": "display_data"
    }
   ],
   "source": [
    "import seaborn as sns\n",
    "import pandas as pd\n",
    "from typing import List\n",
    "\n",
    "\n",
    "def profit_values(c: matrix, G: matrix, h: matrix, constraint_index: int, possible_values: List[float]) -> float:\n",
    "    \"\"\"\n",
    "    Yields values of target function for all possible values for defined constraint \n",
    "    \n",
    "    :param c: default cvxopt.solvers.lp argument\n",
    "    :param G: default cvxopt.solvers.lp argument\n",
    "    :param h: default cvxopt.solvers.lp argument\n",
    "    :param constraint_index: index of constraint that has values\n",
    "    :param possible_values: possible constraint values\n",
    "    :return: \n",
    "    \"\"\"\n",
    "    h_copy = matrix([i for i in h], tc='d')\n",
    "    \n",
    "    for value in possible_values:\n",
    "        h_copy[constraint_index] = value\n",
    "        yield -solvers.lp(c, G.T, h_copy, solver='glpk')['primal objective']\n",
    "\n",
    "# Construct all values for borders and plot \"tornado\" boxplot\n",
    "\n",
    "results = {\n",
    "    f'y{constraint_index}': list(profit_values(c, G, h, constraint_index, possible_values))\n",
    "    for constraint_index, possible_values \n",
    "    in borders.items()\n",
    "}\n",
    "\n",
    "boxplot_df = pd.DataFrame({\n",
    "    'Parameter': list(results.keys()) + list(results.keys()),\n",
    "    'Profit': [value for values in results.values() for value in values],\n",
    "})\n",
    "\n",
    "sns.boxplot(data=boxplot_df, x='Profit', y='Parameter')\n"
   ]
  },
  {
   "cell_type": "markdown",
   "metadata": {
    "pycharm": {}
   },
   "source": [
    "## Задача 3.\n",
    "\n",
    "$x_{ij}$, количество перевезённого продукта i в пункт j\n",
    "\n",
    "\n",
    "$f(x) = 5.1x_{11} + 7.4x_{12} + 7.6x_{13} + 5.3x_{14} + 3.0x_{15} + 5.6x_{21} + 7.4x_{22} + 4.0x_{23} + 7.9x_{24} + 6.6x_{25} + 2.2x_{31} + 4.3x_{32} + 5.7x_{33} + 5.8x_{34} + 6.6x_{35} + 5.1x_{41} + 5.3x_{42} + 3.3x_{43} + 6.7x_{44} + 6.8x_{45}$  \n",
    "\n",
    "$x_{11} + x_{12} + x_{13} + x_{14} + x_{15} <= 0.67 \\cdot prev$  \n",
    "$x_{21} + x_{22} + x_{23} + x_{24} + x_{25} <= 0.67 \\cdot 4400$  \n",
    "$x_{31} + x_{32} + x_{33} + x_{34} + x_{35} <= 0.67 \\cdot 5900$  \n",
    "$x_{41} + x_{42} + x_{43} + x_{44} + x_{45} <= 0.67 \\cdot 4200$  \n",
    "$x_{51} + x_{52} + x_{53} + x_{54} + x_{55} <= 5579$  \n",
    "$x_{11} + x_{21} + x_{31} + x_{41} + x_{51} = 1900$  \n",
    "$x_{12} + x_{22} + x_{32} + x_{42} + x_{52} = 3200$  \n",
    "$x_{13} + x_{23} + x_{33} + x_{43} + x_{53} = 2900$  \n",
    "$x_{14} + x_{24} + x_{34} + x_{44} + x_{54} = 4100$  \n",
    "$x_{15} + x_{25} + x_{35} + x_{45} + x_{55} = 3500$  \n",
    "$x_{ij} >= 0$\n"
   ]
  },
  {
   "cell_type": "code",
   "execution_count": 28,
   "metadata": {
    "pycharm": {
     "is_executing": false
    }
   },
   "outputs": [
    {
     "name": "stdout",
     "output_type": "stream",
     "text": [
      "Manufactured = 9922.624208144796, required = 15600, delta = 5677.375791855204\n",
      "Solution status = optimal\n",
      "Minimal cost = 41554.8\n",
      "Plan =\n",
      " [ 0.00e+00]\n",
      "[ 0.00e+00]\n",
      "[ 0.00e+00]\n",
      "[ 0.00e+00]\n",
      "[ 2.08e+02]\n",
      "[ 1.90e+03]\n",
      "[ 0.00e+00]\n",
      "[ 0.00e+00]\n",
      "[ 1.05e+03]\n",
      "[ 0.00e+00]\n",
      "[ 0.00e+00]\n",
      "[ 0.00e+00]\n",
      "[ 2.90e+03]\n",
      "[ 1.05e+03]\n",
      "[ 0.00e+00]\n",
      "[ 0.00e+00]\n",
      "[ 0.00e+00]\n",
      "[ 0.00e+00]\n",
      "[ 2.00e+03]\n",
      "[ 8.15e+02]\n",
      "[ 0.00e+00]\n",
      "[ 3.20e+03]\n",
      "[ 0.00e+00]\n",
      "[ 0.00e+00]\n",
      "[ 2.48e+03]\n",
      "\n",
      "Costs =\n",
      " [ 1.00e+00]\n",
      "[ 4.10e+00]\n",
      "[ 4.60e+00]\n",
      "[ 2.00e-01]\n",
      "[-0.00e+00]\n",
      "[-0.00e+00]\n",
      "[ 3.40e+00]\n",
      "[ 5.50e+00]\n",
      "[-0.00e+00]\n",
      "[ 1.10e+00]\n",
      "[ 4.60e+00]\n",
      "[ 4.10e+00]\n",
      "[-0.00e+00]\n",
      "[-0.00e+00]\n",
      "[ 8.00e-01]\n",
      "[ 1.60e+00]\n",
      "[ 2.50e+00]\n",
      "[ 3.60e+00]\n",
      "[-0.00e+00]\n",
      "[-0.00e+00]\n",
      "[ 1.20e+00]\n",
      "[-0.00e+00]\n",
      "[ 3.70e+00]\n",
      "[ 1.70e+00]\n",
      "[-0.00e+00]\n",
      "\n"
     ]
    }
   ],
   "source": [
    "import numpy as np\n",
    "\n",
    "manufactured = [0.67 * i for i in [max_product, 4400, 5900, 4200]]\n",
    "required = [1900, 3200, 2900, 4100, 3500]\n",
    "delta = sum(required) - sum(manufactured)\n",
    "print(f\"Manufactured = {sum(manufactured)}, required = {sum(required)}, delta = {sum(required) - sum(manufactured)}\")\n",
    "\n",
    "\n",
    "c = matrix([5.1, 7.4, 7.6, 5.3, 0, 3.0, 5.6, 7.4, 4.0, 0, 7.9, 6.6, 2.2, 4.3, 0, 5.7, 5.8, 6.6, 5.1, 0, 5.3, 3.3, 6.7, 6.8, 0], tc='d')\n",
    "G = matrix(-np.eye(25), tc='d')\n",
    "h = matrix(np.zeros(25), tc='d')\n",
    "\n",
    "A = matrix([[1, 1, 1, 1, 1,  0, 0, 0, 0, 0,  0, 0, 0, 0, 0,  0, 0, 0, 0, 0,  0, 0, 0, 0, 0],\n",
    "            [0, 0, 0, 0, 0,  1, 1, 1, 1, 1,  0, 0, 0, 0, 0,  0, 0, 0, 0, 0,  0, 0, 0, 0, 0],\n",
    "            [0, 0, 0, 0, 0,  0, 0, 0, 0, 0,  1, 1, 1, 1, 1,  0, 0, 0, 0, 0,  0, 0, 0, 0, 0],\n",
    "            [0, 0, 0, 0, 0,  0, 0, 0, 0, 0,  0, 0, 0, 0, 0,  1, 1, 1, 1, 1,  0, 0, 0, 0, 0],\n",
    "            [0, 0, 0, 0, 0,  0, 0, 0, 0, 0,  0, 0, 0, 0, 0,  0, 0, 0, 0, 0,  1, 1, 1, 1, 1],\n",
    "     \n",
    "            [1, 0, 0, 0, 0,  1, 0, 0, 0, 0,  1, 0, 0, 0, 0,  1, 0, 0, 0, 0,  1, 0, 0, 0, 0],\n",
    "            [0, 1, 0, 0, 0,  0, 1, 0, 0, 0,  0, 1, 0, 0, 0,  0, 1, 0, 0, 0,  0, 1, 0, 0, 0],\n",
    "            [0, 0, 1, 0, 0,  0, 0, 1, 0, 0,  0, 0, 1, 0, 0,  0, 0, 1, 0, 0,  0, 0, 1, 0, 0],\n",
    "            [0, 0, 0, 1, 0,  0, 0, 0, 1, 0,  0, 0, 0, 1, 0,  0, 0, 0, 1, 0,  0, 0, 0, 1, 0],\n",
    "            [0, 0, 0, 0, 1,  0, 0, 0, 0, 1,  0, 0, 0, 0, 1,  0, 0, 0, 0, 1,  0, 0, 0, 0, 1]], tc='d')\n",
    "\n",
    "b = matrix([0.67 * max_product,\n",
    "            0.67 * 4400,\n",
    "            0.67 * 5900,\n",
    "            0.67 * 4200,\n",
    "            delta,\n",
    "     \n",
    "            1900,\n",
    "            3200,\n",
    "            2900,\n",
    "            4100,\n",
    "            3500], tc='d')\n",
    "\n",
    "transport_solution = solvers.lp(c, G.T, h, A.T, b, solver='glpk')\n",
    "print(f'Solution status = {transport_solution[\"status\"]}')\n",
    "print(f'Minimal cost = {transport_solution[\"primal objective\"]}')\n",
    "print(f'Plan =\\n {transport_solution[\"x\"]}')\n",
    "print(f'Costs =\\n {transport_solution[\"z\"]}')"
   ]
  },
  {
   "cell_type": "markdown",
   "metadata": {
    "pycharm": {}
   },
   "source": [
    "### Рекомендации по результатам решения задачи\n",
    "\n",
    "Так как прямая задача не имеет решения, имеется недостаток свыше 15%, была решена задача с фиктивным пунктом отправления.\n",
    "\n",
    "В пунктах 1, 3 и 4 имеется недостаток в 1.2, 3.7 и 1.7 единиц продукции соответственно. Так как мы оптимизируем конкретно наш завод, то рекомендуется увеличить фонд рабочего времени на любом из полностью загруженных станков, так как интервал допустимости решения предыдущей задачи достаточно велик.\n"
   ]
  },
  {
   "cell_type": "code",
   "execution_count": 29,
   "metadata": {
    "pycharm": {
     "is_executing": false
    }
   },
   "outputs": [
    {
     "name": "stdout",
     "output_type": "stream",
     "text": [
      "x11 variable is out of plan and increases, skipping.\n",
      "x15 variable decreases, will be in plan with delta=-0.1\n",
      "x22 variable decreases, will be in plan with delta=-3.399999999999996\n",
      "x24 variable increases, will be out of plan with delta=2.8999999999999897\n",
      "x32 variable is out of plan and increases, skipping.\n",
      "x33 variable increases, will be out of plan with delta=4.599999999999992\n",
      "x34 variable decreases, will be in plan with delta=-0.09999999999999964\n",
      "x41 variable is out of plan and increases, skipping.\n"
     ]
    }
   ],
   "source": [
    "# Sensitivity analysis for target-function coefficients\n",
    "from typing import Optional\n",
    "\n",
    "\n",
    "def availability_interval_for_coeffs(\n",
    "        c, \n",
    "        G, \n",
    "        h, \n",
    "        A, \n",
    "        b, \n",
    "        coefficient_index: int, \n",
    "        increase: bool, \n",
    "        delta: float\n",
    ") -> Optional[float]:\n",
    "    \"\"\"\n",
    "    \n",
    "    :param c: cvxopt.solvers.lp param\n",
    "    :param G: cvxopt.solvers.lp param\n",
    "    :param h: cvxopt.solvers.lp param\n",
    "    :param A: cvxopt.solvers.lp param\n",
    "    :param b: cvxopt.solvers.lp param\n",
    "    :param coefficient_index: target function coefficient index\n",
    "    :param increase: \n",
    "    :param delta: \n",
    "    :return: \n",
    "    \"\"\"\n",
    "    solution = solvers.lp(c, G.T, h, A.T, b, solver='glpk')\n",
    "    new_c = matrix([i for i in c], tc='d')\n",
    "    \n",
    "    if increase:\n",
    "        # Check for absence of current coefficient index in optimal plan\n",
    "        if solution[\"x\"][coefficient_index] == 0:\n",
    "            return\n",
    "                \n",
    "        while solution[\"x\"][coefficient_index] > 0:\n",
    "            new_c[coefficient_index] += delta\n",
    "            solution = solvers.lp(new_c, G.T, h, A.T, b, solver='glpk')        \n",
    "    else:\n",
    "        # Check for presence of current coefficient index in optimal plan\n",
    "        if solution[\"x\"][coefficient_index] > 0:\n",
    "            plan_delta = None\n",
    "            \n",
    "            while plan_delta != 0:\n",
    "                new_c[coefficient_index] -= delta\n",
    "                new_solution = solvers.lp(new_c, G.T, h, A.T, b, solver='glpk')\n",
    "                plan_delta = new_solution[\"x\"][coefficient_index] - solution[\"x\"][coefficient_index]\n",
    "                solution = new_solution\n",
    "        else:\n",
    "            while solution[\"x\"][coefficient_index] == 0:\n",
    "                new_c[coefficient_index] -= delta\n",
    "                solution = solvers.lp(new_c, G.T, h, A.T, b, solver='glpk')\n",
    "    \n",
    "    return new_c[coefficient_index] - c[coefficient_index]\n",
    "    \n",
    "\n",
    "# Variables change tendencies are defined in following manner\n",
    "#\n",
    "# True if variable may increase\n",
    "# None if variable is stable\n",
    "# False if variable may decrease\n",
    "\n",
    "variables_tendencies = [\n",
    "    True, None, None, None, False,\n",
    "    None, False, None, True, None,\n",
    "    None, True, True, False, None,\n",
    "    True, None, None, None, None,\n",
    "]\n",
    "\n",
    "# Output all sensitivity analysis results corresponding to variables tendencies\n",
    "\n",
    "for index, tendency in enumerate(variables_tendencies):\n",
    "    variable_name = f'x{index // 5 + 1}{index % 5 + 1}'\n",
    "    prefix = f'{variable_name} variable'\n",
    "    \n",
    "    if tendency is None:\n",
    "        pass\n",
    "    \n",
    "    elif tendency:\n",
    "        delta = availability_interval_for_coeffs(c, G, h, A, b, index, tendency, 0.1)\n",
    "        \n",
    "        if delta is None:\n",
    "            print(f'{prefix} is out of plan and increases, skipping.')\n",
    "        else:\n",
    "            print(f'{prefix} increases, will be out of plan with delta={delta}')\n",
    "    \n",
    "    else:\n",
    "        delta = availability_interval_for_coeffs(c, G, h, A, b, index, tendency, 0.1)\n",
    "        \n",
    "        if delta is None:\n",
    "            print(f'{prefix} decreases and is present in plan, decreasing will be useless with delta={delta}')\n",
    "        else:\n",
    "            print(f'{prefix} decreases, will be in plan with delta={delta}')"
   ]
  },
  {
   "cell_type": "code",
   "execution_count": null,
   "metadata": {},
   "outputs": [],
   "source": []
  },
  {
   "cell_type": "code",
   "execution_count": null,
   "metadata": {},
   "outputs": [],
   "source": []
  }
 ],
 "metadata": {
  "kernelspec": {
   "display_name": "Python 3",
   "language": "python",
   "name": "python3"
  },
  "language_info": {
   "codemirror_mode": {
    "name": "ipython",
    "version": 3
   },
   "file_extension": ".py",
   "mimetype": "text/x-python",
   "name": "python",
   "nbconvert_exporter": "python",
   "pygments_lexer": "ipython3",
   "version": "3.7.1"
  }
 },
 "nbformat": 4,
 "nbformat_minor": 2
}
