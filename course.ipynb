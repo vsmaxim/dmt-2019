{
  "cells": [
    {
      "cell_type": "markdown",
      "metadata": {
        "pycharm": {}
      },
      "source": "# Вариант 4. Васильев Максим, 6373.\n\n## Задача 1.\n\n### Текст задачи \n\nВ цехах $N1$ и $N2$ предприятия производится продукт Y, который в дальнейшем используется в качестве исходного материала для производства изделий в цехе $N3$. Суммарная производительность цехов N1 и N2 зависит от вложения дополнительных средств X. При работе цехов N1 и N2 в течение одного месяца эта зависимость может быть приближённо представлена в виде функций:\n\n- $N1: y \u003d 5 + (x + 40)^{1/3}$\n- $N2: y \u003d 7 + (x + 30)^{1/3}$\n\nФункции остатка средств в течении месяца:\n\n- $N1: 0.8x$\n- $N2: 0.62x$\n\nСредства выделяемые на оба цеха в течении квартала (3 месяца), составляют 179 единиц; перераспределение производится помесячно. \n\nТребуется распределить средства на планируемый квартал с целью получения максимального количества продукта Y.\n\n### Формализация задачи\n\nТак-как количество управлений невелико, для решения задачи был выбран метод Динамического программирования.Для решения задачи выбранным методом, нужно выбрать способ описания процесса.\n\n#### Способ описания процесса\n\n1. Этапы   - месяца финансирования, $i \u003d 0..2$\n2. Выигрыш - суммарная производительность двух цехов, $y \u003d 12 + (x_1 + 40)^{1/3} + (x_2 + 30)^{1/3}$, где $x_1$ - вложерние в первый цех, $x_2$ - вложение во второй цех\n3. Управление - количество средств выделенное на первый цех, т.к. на второй цех будет выделена автоматически оставшаяся часть.\n4. Состояние - остаток средств в течении месяца, в первом месяце это $179$\n\n#### Описание в терминах уравнения Беллмана\n\n$S_i$ - состояние на $i$-м этапе  \n$u_i$ - управление на $i$-м этапе  \n$W_i$ - условный оптимальный выигрыш на всех шагах от i-го и до последнего  \n$w_i(S_i, u_i)$ - выигрыш на $i$-м этапе  \n$\\varphi_i(S_i, u_i)$ - изменение состояния системы на i-м шаге  \n\nЗапишем выигрыш и изменение состояния на i-м шаге:  \n$w_i(S_i, u_i) \u003d 12 + (u_i + 40)^{1/3} + (S_i - u_i + 30)^{1/3}$  \n$\\varphi_i(S_i, u_i) \u003d 0.8 u_i + 0.66(S_i - u_i)$  \n\nТогда основное функциональное уравнение будет иметь следующий вид:\n\n$W_i(S_i) \u003d max(12 + (u_i + 40)^{1/3} + (S_i - u_i + 30)^{1/3} + W_{i+1}(0.66S_i + 0.14u_i))$\n"
    },
    {
      "cell_type": "code",
      "execution_count": 7,
      "metadata": {
        "pycharm": {
          "is_executing": false
        }
      },
      "outputs": [
        {
          "name": "stdout",
          "text": [
            "Maximum y product is 64.02966637551752\n"
          ],
          "output_type": "stream"
        }
      ],
      "source": "\n# Dynamic programming solution\n# TODO: Construct plan from this\n\nfrom dynamic_solver import solve, set_precision\n\nset_precision(1)\nmax_y_product \u003d solve(179)\n\nprint(f\u0027Maximum y product is {max_y_product}\u0027)\n"
    },
    {
      "cell_type": "markdown",
      "metadata": {
        "pycharm": {}
      },
      "source": "## Задача 2.\n\n### Текст задачи\n\nЦех N3 выпускает продукци в виде трех изделий\nTODO\n\n### Формализация задачи\n\n$f(x) \u003d x_{21} + x_{31} + x_{12} + x_{22} + x_{13} + x_{33} -\u003e max$ \n\n$x_{ij}, i\u003d1..3, j\u003d1..3$ - количество продукции i произведённое цехом j\n\n*Ограничения по количеству продукции:*  \ny1: $0.005x_{21} + 0.004x_{31} +  0.003x_{12} + 0.009x_{22} + 0.003x_{13} + 0.005x_{33} \u003c\u003d Y$, где Y - количество продукции полученное в прошлом пункте.  \n\n*Ограничения по времени:*  \n\ny2: $5 x_{21} + 8 x_{31} \u003c\u003d 860$  \n\ny3: $20 x_{12} + 8 x_{22} \u003c\u003d 1500$  \n\ny4: $13 x_{13} + 9 x_{33} \u003c\u003d 870$  \n\n*Ограничения на отрицательность переменных:*\n\n$x_{21} \u003e\u003d 0$\n$x_{31} \u003e\u003d 0$\n$x_{12} \u003e\u003d 0$\n$x_{22} \u003e\u003d 0$\n$x_{13} \u003e\u003d 0$\n$x_{33} \u003e\u003d 0$"
    },
    {
      "cell_type": "code",
      "execution_count": 8,
      "metadata": {
        "pycharm": {
          "is_executing": false
        }
      },
      "outputs": [
        {
          "name": "stdout",
          "text": [
            "Status: optimal\nObjective: 456.1666666666667\nx \u003d \n[ 1.72e+02]\n[ 0.00e+00]\n[ 0.00e+00]\n[ 1.88e+02]\n[ 0.00e+00]\n[ 9.67e+01]\n\nShadow price\u003d\n[-0.00e+00]\n[ 2.00e-01]\n[ 1.25e-01]\n[ 1.11e-01]\n\nReduced cost\u003d\n[-0.00e+00]\n[ 6.00e-01]\n[ 1.50e+00]\n[-0.00e+00]\n[ 4.44e-01]\n[-0.00e+00]\n\n"
          ],
          "output_type": "stream"
        }
      ],
      "source": "from cvxopt import matrix, solvers\n\nc \u003d matrix([-1 for _ in range(6)], tc\u003d\u0027d\u0027)\nG \u003d matrix([[0.005, 0.004, 0.003, 0.009, 0.003, 0.005],\n            [5, 8, 0, 0, 0, 0],\n            [0, 0, 20, 8, 0, 0],\n            [0, 0, 0, 0, 13, 9],\n            [-1, 0, 0, 0, 0, 0],\n            [0, -1, 0, 0, 0, 0],\n            [0, 0, -1, 0, 0, 0],\n            [0, 0, 0, -1, 0, 0],\n            [0, 0, 0, 0, -1, 0],\n            [0, 0, 0, 0, 0, -1]], tc\u003d\u0027d\u0027)\n\nh \u003d matrix([max_y_product, 860, 1500, 870, 0, 0, 0, 0, 0, 0], tc\u003d\u0027d\u0027)\nsolution \u003d solvers.lp(c, G.T, h, solver\u003d\u0027glpk\u0027)\n\nprint(f\u0027Status: {solution[\"status\"]}\u0027)\nprint(f\u0027Objective: {-solution[\"primal objective\"]}\u0027)\nprint(f\u0027x \u003d \\n{solution[\"x\"]}\u0027)\n\nmax_product \u003d -solution[\u0027primal objective\u0027]\nshadow_price, reduced_cost \u003d solution[\u0027z\u0027][:-len(c)], solution[\u0027z\u0027][-len(c):]\nprint(f\u0027Shadow price\u003d\\n{shadow_price}\\nReduced cost\u003d\\n{reduced_cost}\u0027)\n"
    },
    {
      "cell_type": "markdown",
      "metadata": {
        "pycharm": {}
      },
      "source": [
        "### Выводы по решению:\n",
        "\n",
        "1. Ресурс $Y$, производимый цехами $N1$ и $N2$ не является дефицитным.\n",
        "2. Полностью загружены все группы оборудования, т.к. временной фонд в ограничениях $y2$, $y3$ и $y4$ является дефицитным ресурсом."
      ]
    },
    {
      "cell_type": "code",
      "execution_count": 9,
      "metadata": {
        "pycharm": {
          "is_executing": false
        }
      },
      "outputs": [
        {
          "name": "stdout",
          "text": [
            "Sensitivity analysis for y2 constraint\ny2 availability interval is [859.0, 61861.0]\n\nSensitivity analysis for y3 constraint\n",
            "y3 availability interval is [1499.0, 55801.0]\n\nSensitivity analysis for y4 constraint\n",
            "y4 availability interval is [869.0, 110671.0]\n\n"
          ],
          "output_type": "stream"
        }
      ],
      "source": "from typing import Tuple\n\n\ndef availability_interval(c, G, h, constraint_index: int) -\u003e Tuple[int, int]:\n    \"\"\"\n    Returns solution availability interval for constraint with defined index\n    \n    :param с: default cvxopt.solvers.lp argument\n    :param G: default cvxopt.solvers.lp argument\n    :param h: default cvxopt.solvers.lp argument\n    :param constraint_index: index of constraint\n    :return: availability interval for constraint\n    \"\"\"\n    dh \u003d matrix([int(i \u003d\u003d constraint_index) for i in range(len(h))], tc\u003d\u0027d\u0027)\n    solution \u003d solvers.lp(c, G.T, h, solver\u003d\u0027glpk\u0027)\n    price \u003d solution[\u0027z\u0027][constraint_index]\n    \n    prev_z \u003d -solution[\u0027primal objective\u0027]\n    \n    step \u003d 100\n    a \u003d 1\n    \n    while True:\n        solution_i \u003d solvers.lp(c, G.T, h + dh * a, solver\u003d\u0027glpk\u0027)\n        \n        if solution_i[\u0027status\u0027] !\u003d \u0027optimal\u0027:\n            return 0, 0\n        \n        new_z \u003d -solution_i[\u0027primal objective\u0027]\n        delta_z \u003d new_z - prev_z \n        prev_z \u003d new_z\n        \n        if a !\u003d 1:\n            delta_z /\u003d step\n                \n        if abs(delta_z - price) \u003e 1e-6:\n            right_border \u003d h[constraint_index] + a\n            break\n        \n        a +\u003d step\n    \n    a \u003d 1\n    \n    while True:\n        solution_i \u003d solvers.lp(c, G.T, h - dh * a, solver\u003d\u0027glpk\u0027)\n        \n        if solution_i[\u0027status\u0027] !\u003d \u0027optimal\u0027:\n            return 0, 0\n        \n        new_z \u003d -solution_i[\u0027primal objective\u0027]\n        delta_z \u003d new_z - prev_z\n        prev_z \u003d new_z\n        \n        if abs(delta_z - price) \u003e 1e-6:\n            left_border \u003d h[constraint_index] - a\n            break\n        \n        a +\u003d 1\n    \n    return left_border, right_border\n\nborders \u003d {}\n\n# Calculate availability interval for all constraints with non-zero shadow price\nfor constraint_index, price in enumerate(shadow_price):\n    if price \u003d\u003d 0:\n        continue\n    print(f\u0027Sensitivity analysis for y{constraint_index + 1} constraint\u0027)\n    left_border, right_border \u003d availability_interval(c, G, h, constraint_index)\n    borders[constraint_index] \u003d (left_border, right_border)\n    print(f\u0027y{constraint_index + 1} availability interval is [{left_border}, {right_border}]\u0027)\n    print()\n"
    },
    {
      "cell_type": "code",
      "execution_count": 10,
      "metadata": {
        "pycharm": {
          "is_executing": false
        }
      },
      "outputs": [
        {
          "name": "stdout",
          "text": [
            "  Parameter        Profit\n0        y1    455.966667\n1        y2  12656.199978\n2        y3    456.041667\n3        y1   7236.884593\n4        y2    456.055556\n5        y3  12656.145277\n"
          ],
          "output_type": "stream"
        },
        {
          "data": {
            "text/plain": "\u003cmatplotlib.axes._subplots.AxesSubplot at 0x1873bf40a58\u003e"
          },
          "metadata": {},
          "output_type": "execute_result",
          "execution_count": 10
        }
      ],
      "source": "import seaborn as sns\nimport pandas as pd\nfrom typing import List\n\n\ndef profit_values(c: matrix, G: matrix, h: matrix, constraint_index: int, possible_values: List[float]) -\u003e float:\n    \"\"\"\n    Yields values of target function for all possible values for defined constraint \n    \n    :param c: default cvxopt.solvers.lp argument\n    :param G: default cvxopt.solvers.lp argument\n    :param h: default cvxopt.solvers.lp argument\n    :param constraint_index: index of constraint that has values\n    :param possible_values: possible constraint values\n    :return: \n    \"\"\"\n    h_copy \u003d matrix([i for i in h], tc\u003d\u0027d\u0027)\n    \n    for value in possible_values:\n        h_copy[constraint_index] \u003d value\n        yield -solvers.lp(c, G.T, h_copy, solver\u003d\u0027glpk\u0027)[\u0027primal objective\u0027]\n\n# Construct all values for borders and plot \"tornado\" boxplot\n\nresults \u003d {\n    f\u0027y{constraint_index}\u0027: list(profit_values(c, G, h, constraint_index, possible_values))\n    for constraint_index, possible_values \n    in borders.items()\n}\n\nboxplot_df \u003d pd.DataFrame({\n    \u0027Parameter\u0027: list(results.keys()) + list(results.keys()),\n    \u0027Profit\u0027: [value for values in results.values() for value in values],\n})\n\nsns.boxplot(data\u003dboxplot_df, x\u003d\u0027Profit\u0027, y\u003d\u0027Parameter\u0027)\n"
    },
    {
      "cell_type": "markdown",
      "metadata": {
        "pycharm": {}
      },
      "source": [
        "## Задача 3.\n",
        "\n",
        "$x_{ij}$, количество перевезённого продукта i в пункт j\n",
        "\n",
        "\n",
        "$f(x) \u003d 5.1x_{11} + 7.4x_{12} + 7.6x_{13} + 5.3x_{14} + 3.0x_{15} + 5.6x_{21} + 7.4x_{22} + 4.0x_{23} + 7.9x_{24} + 6.6x_{25} + 2.2x_{31} + 4.3x_{32} + 5.7x_{33} + 5.8x_{34} + 6.6x_{35} + 5.1x_{41} + 5.3x_{42} + 3.3x_{43} + 6.7x_{44} + 6.8x_{45}$  \n",
        "\n",
        "$x_{11} + x_{12} + x_{13} + x_{14} + x_{15} \u003c\u003d 0.67 \\cdot prev$  \n",
        "$x_{21} + x_{22} + x_{23} + x_{24} + x_{25} \u003c\u003d 0.67 \\cdot 4400$  \n",
        "$x_{31} + x_{32} + x_{33} + x_{34} + x_{35} \u003c\u003d 0.67 \\cdot 5900$  \n",
        "$x_{41} + x_{42} + x_{43} + x_{44} + x_{45} \u003c\u003d 0.67 \\cdot 4200$  \n",
        "$x_{51} + x_{52} + x_{53} + x_{54} + x_{55} \u003c\u003d 5579$  \n",
        "$x_{11} + x_{21} + x_{31} + x_{41} + x_{51} \u003d 1900$  \n",
        "$x_{12} + x_{22} + x_{32} + x_{42} + x_{52} \u003d 3200$  \n",
        "$x_{13} + x_{23} + x_{33} + x_{43} + x_{53} \u003d 2900$  \n",
        "$x_{14} + x_{24} + x_{34} + x_{44} + x_{54} \u003d 4100$  \n",
        "$x_{15} + x_{25} + x_{35} + x_{45} + x_{55} \u003d 3500$  \n",
        "$x_{ij} \u003e\u003d 0$\n"
      ]
    },
    {
      "cell_type": "code",
      "execution_count": 11,
      "metadata": {
        "pycharm": {
          "is_executing": false
        }
      },
      "outputs": [
        {
          "name": "stdout",
          "text": [
            "Manufactured \u003d 10020.631666666668, required \u003d 15600, delta \u003d 5579.368333333332\nMinimal cost \u003d optimal\nPlan \u003d\n [ 0.00e+00]\n[ 0.00e+00]\n[ 0.00e+00]\n[ 0.00e+00]\n[ 3.06e+02]\n[ 1.90e+03]\n[ 0.00e+00]\n[ 0.00e+00]\n[ 1.05e+03]\n[ 0.00e+00]\n[ 0.00e+00]\n[ 0.00e+00]\n[ 2.90e+03]\n[ 1.05e+03]\n[ 0.00e+00]\n[ 0.00e+00]\n[ 0.00e+00]\n[ 0.00e+00]\n[ 2.00e+03]\n[ 8.15e+02]\n[ 0.00e+00]\n[ 3.20e+03]\n[ 0.00e+00]\n[ 0.00e+00]\n[ 2.38e+03]\n\nCosts \u003d\n [ 1.00e+00]\n[ 4.10e+00]\n[ 4.60e+00]\n[ 2.00e-01]\n[-0.00e+00]\n[-0.00e+00]\n[ 3.40e+00]\n[ 5.50e+00]\n[-0.00e+00]\n[ 1.10e+00]\n[ 4.60e+00]\n[ 4.10e+00]\n[-0.00e+00]\n[-0.00e+00]\n[ 8.00e-01]\n[ 1.60e+00]\n[ 2.50e+00]\n[ 3.60e+00]\n[-0.00e+00]\n[-0.00e+00]\n[ 1.20e+00]\n[-0.00e+00]\n[ 3.70e+00]\n[ 1.70e+00]\n[-0.00e+00]\n\n"
          ],
          "output_type": "stream"
        }
      ],
      "source": "import numpy as np\n\nmanufactured \u003d [0.67 * i for i in [max_product, 4400, 5900, 4200]]\nrequired \u003d [1900, 3200, 2900, 4100, 3500]\ndelta \u003d sum(required) - sum(manufactured)\nprint(f\"Manufactured \u003d {sum(manufactured)}, required \u003d {sum(required)}, delta \u003d {sum(required) - sum(manufactured)}\")\n\n\nc \u003d matrix([5.1, 7.4, 7.6, 5.3, 0, 3.0, 5.6, 7.4, 4.0, 0, 7.9, 6.6, 2.2, 4.3, 0, 5.7, 5.8, 6.6, 5.1, 0, 5.3, 3.3, 6.7, 6.8, 0], tc\u003d\u0027d\u0027)\nG \u003d matrix(-np.eye(25), tc\u003d\u0027d\u0027)\nh \u003d matrix(np.zeros(25), tc\u003d\u0027d\u0027)\n\nA \u003d matrix([[1, 1, 1, 1, 1,  0, 0, 0, 0, 0,  0, 0, 0, 0, 0,  0, 0, 0, 0, 0,  0, 0, 0, 0, 0],\n            [0, 0, 0, 0, 0,  1, 1, 1, 1, 1,  0, 0, 0, 0, 0,  0, 0, 0, 0, 0,  0, 0, 0, 0, 0],\n            [0, 0, 0, 0, 0,  0, 0, 0, 0, 0,  1, 1, 1, 1, 1,  0, 0, 0, 0, 0,  0, 0, 0, 0, 0],\n            [0, 0, 0, 0, 0,  0, 0, 0, 0, 0,  0, 0, 0, 0, 0,  1, 1, 1, 1, 1,  0, 0, 0, 0, 0],\n            [0, 0, 0, 0, 0,  0, 0, 0, 0, 0,  0, 0, 0, 0, 0,  0, 0, 0, 0, 0,  1, 1, 1, 1, 1],\n     \n            [1, 0, 0, 0, 0,  1, 0, 0, 0, 0,  1, 0, 0, 0, 0,  1, 0, 0, 0, 0,  1, 0, 0, 0, 0],\n            [0, 1, 0, 0, 0,  0, 1, 0, 0, 0,  0, 1, 0, 0, 0,  0, 1, 0, 0, 0,  0, 1, 0, 0, 0],\n            [0, 0, 1, 0, 0,  0, 0, 1, 0, 0,  0, 0, 1, 0, 0,  0, 0, 1, 0, 0,  0, 0, 1, 0, 0],\n            [0, 0, 0, 1, 0,  0, 0, 0, 1, 0,  0, 0, 0, 1, 0,  0, 0, 0, 1, 0,  0, 0, 0, 1, 0],\n            [0, 0, 0, 0, 1,  0, 0, 0, 0, 1,  0, 0, 0, 0, 1,  0, 0, 0, 0, 1,  0, 0, 0, 0, 1]], tc\u003d\u0027d\u0027)\n\nb \u003d matrix([0.67 * max_product,\n            0.67 * 4400,\n            0.67 * 5900,\n            0.67 * 4200,\n            delta,\n     \n            1900,\n            3200,\n            2900,\n            4100,\n            3500], tc\u003d\u0027d\u0027)\n\ntransport_solution \u003d solvers.lp(c, G.T, h, A.T, b, solver\u003d\u0027glpk\u0027)\nprint(f\u0027Minimal cost \u003d {transport_solution[\"status\"]}\u0027)\nprint(f\u0027Plan \u003d\\n {transport_solution[\"x\"]}\u0027)\nprint(f\u0027Costs \u003d\\n {transport_solution[\"z\"]}\u0027)"
    },
    {
      "cell_type": "markdown",
      "metadata": {
        "pycharm": {}
      },
      "source": "### Рекомендации по результатам решения задачи\n\nТак как прямая задача не имеет решения, имеется недостаток свыше 15%, была решена задача с фиктивным пунктом отправления.\n\nВ пунктах 1, 3 и 4 имеется недостаток в 1.2, 3.7 и 1.7 единиц продукции соответственно. Так как мы оптимизируем конкретно наш завод, то рекомендуется увеличить фонд рабочего времени на любом из полностью загруженных станков, так как интервал допустимости решения предыдущей задачи достаточно велик.\n"
    },
    {
      "cell_type": "code",
      "execution_count": 18,
      "metadata": {
        "pycharm": {
          "is_executing": false
        }
      },
      "outputs": [
        {
          "name": "stdout",
          "text": [
            "0 variable is out of plan and increases, skipping.\n1 variable is stable, skipping.\n2 variable is stable, skipping.\n3 variable is stable, skipping.\n4 variable decreases, will be in plan with delta\u003d-0.1\n5 variable is stable, skipping.\n6 variable decreases, will be in plan with delta\u003d-3.399999999999996\n7 variable is stable, skipping.\n8 variable increases, will be out of plan with delta\u003d1.2999999999999954\n9 variable is stable, skipping.\n10 variable is stable, skipping.\n11 variable is out of plan and increases, skipping.\n12 variable increases, will be out of plan with delta\u003d4.599999999999992\n13 variable decreases, will be in plan with delta\u003d-0.09999999999999964\n14 variable is stable, skipping.\n15 variable is out of plan and increases, skipping.\n16 variable is stable, skipping.\n17 variable is stable, skipping.\n18 variable is stable, skipping.\n19 variable is stable, skipping.\n"
          ],
          "output_type": "stream"
        }
      ],
      "source": "# Sensitivity analysis for target-function coefficients\nfrom typing import Optional\n\n\ndef availability_interval_for_coeffs(\n        c, \n        G, \n        h, \n        A, \n        b, \n        coefficient_index: int, \n        increase: bool, \n        delta: float\n) -\u003e Optional[float]:\n    \"\"\"\n    \n    :param c: cvxopt.solvers.lp param\n    :param G: cvxopt.solvers.lp param\n    :param h: cvxopt.solvers.lp param\n    :param A: cvxopt.solvers.lp param\n    :param b: cvxopt.solvers.lp param\n    :param coefficient_index: target function coefficient index\n    :param increase: \n    :param delta: \n    :return: \n    \"\"\"\n    solution \u003d solvers.lp(c, G.T, h, A.T, b, solver\u003d\u0027glpk\u0027)\n    new_c \u003d matrix([i for i in c], tc\u003d\u0027d\u0027)\n    \n    if increase:\n        # Check for absence of current coefficient index in optimal plan\n        if solution[\"x\"][coefficient_index] \u003d\u003d 0:\n            return\n                \n        while solution[\"x\"][coefficient_index] \u003e 0:\n            new_c[coefficient_index] +\u003d delta\n            solution \u003d solvers.lp(new_c, G.T, h, A.T, b, solver\u003d\u0027glpk\u0027)        \n    else:\n        # Check for presence of current coefficient index in optimal plan\n        if solution[\"x\"][coefficient_index] \u003e 0:\n            plan_delta \u003d None\n            \n            while plan_delta !\u003d 0:\n                new_c[coefficient_index] -\u003d delta\n                new_solution \u003d solvers.lp(new_c, G.T, h, A.T, b, solver\u003d\u0027glpk\u0027)\n                plan_delta \u003d new_solution[\"x\"][coefficient_index] - solution[\"x\"][coefficient_index]\n                solution \u003d new_solution\n        else:\n            while solution[\"x\"][coefficient_index] \u003d\u003d 0:\n                new_c[coefficient_index] -\u003d delta\n                solution \u003d solvers.lp(new_c, G.T, h, A.T, b, solver\u003d\u0027glpk\u0027)\n    \n    return new_c[coefficient_index] - c[coefficient_index]\n    \n\n# Variables change tendencies are defined in following manner\n#\n# True if variable may increase\n# None if variable is stable\n# False if variable may decrease\n\nvariables_tendencies \u003d [\n    True, None, None, None, False,\n    None, False, None, True, None,\n    None, True, True, False, None,\n    True, None, None, None, None,\n]\n\n# Output all sensitivity analysis results corresponding to variables tendencies\n\nfor index, tendency in enumerate(variables_tendencies):\n    \n    prefix \u003d f\u0027{index} variable\u0027\n    \n    if tendency is None:\n        print(f\u0027{prefix} is stable, skipping.\u0027)\n    \n    elif tendency:\n        delta \u003d availability_interval_for_coeffs(c, G, h, A, b, index, tendency, 0.1)\n        \n        if delta is None:\n            print(f\u0027{prefix} is out of plan and increases, skipping.\u0027)\n        else:\n            print(f\u0027{prefix} increases, will be out of plan with delta\u003d{delta}\u0027)\n    \n    else:\n        delta \u003d availability_interval_for_coeffs(c, G, h, A, b, index, tendency, 0.1)\n        \n        if delta is None:\n            print(f\u0027{prefix} decreases and is present in plan, decreasing will be useless with delta\u003d{delta}\u0027)\n        else:\n            print(f\u0027{prefix} decreases, will be in plan with delta\u003d{delta}\u0027)"
    }
  ],
  "metadata": {
    "kernelspec": {
      "display_name": "Python 3",
      "language": "python",
      "name": "python3"
    },
    "language_info": {
      "codemirror_mode": {
        "name": "ipython",
        "version": 3
      },
      "file_extension": ".py",
      "mimetype": "text/x-python",
      "name": "python",
      "nbconvert_exporter": "python",
      "pygments_lexer": "ipython3",
      "version": "3.7.1"
    }
  },
  "nbformat": 4,
  "nbformat_minor": 2
}